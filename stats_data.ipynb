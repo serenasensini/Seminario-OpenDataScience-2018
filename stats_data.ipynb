{
 "cells": [
  {
   "cell_type": "code",
   "execution_count": 8,
   "metadata": {},
   "outputs": [
    {
     "name": "stdout",
     "output_type": "stream",
     "text": [
      "                           sepal_length  sepal_width  petal_length  \\\n",
      "5.1 0.222222 3.5 0.625000           1.4     0.067797           0.2   \n",
      "4.9 0.166667 3.0 0.416667           1.4     0.067797           0.2   \n",
      "4.7 0.111111 3.2 0.500000           1.3     0.050847           0.2   \n",
      "4.6 0.083333 3.1 0.458333           1.5     0.084746           0.2   \n",
      "5.0 0.194444 3.6 0.666667           1.4     0.067797           0.2   \n",
      "5.4 0.305556 3.9 0.791667           1.7     0.118644           0.4   \n",
      "4.6 0.083333 3.4 0.583333           1.4     0.067797           0.3   \n",
      "5.0 0.194444 3.4 0.583333           1.5     0.084746           0.2   \n",
      "4.4 0.027778 2.9 0.375000           1.4     0.067797           0.2   \n",
      "4.9 0.166667 3.1 0.458333           1.5     0.084746           0.1   \n",
      "5.4 0.305556 3.7 0.708333           1.5     0.084746           0.2   \n",
      "4.8 0.138889 3.4 0.583333           1.6     0.101695           0.2   \n",
      "             3.0 0.416667           1.4     0.067797           0.1   \n",
      "4.3 0.010000 3.0 0.416667           1.1     0.016949           0.1   \n",
      "5.8 0.416667 4.0 0.833333           1.2     0.033898           0.2   \n",
      "5.7 0.388889 4.4 0.999900           1.5     0.084746           0.4   \n",
      "5.4 0.305556 3.9 0.791667           1.3     0.050847           0.4   \n",
      "5.1 0.222222 3.5 0.625000           1.4     0.067797           0.3   \n",
      "5.7 0.388889 3.8 0.750000           1.7     0.118644           0.3   \n",
      "5.1 0.222222 3.8 0.750000           1.5     0.084746           0.3   \n",
      "5.4 0.305556 3.4 0.583333           1.7     0.118644           0.2   \n",
      "5.1 0.222222 3.7 0.708333           1.5     0.084746           0.4   \n",
      "4.6 0.083333 3.6 0.666667           1.0     0.010000           0.2   \n",
      "5.1 0.222222 3.3 0.541667           1.7     0.118644           0.5   \n",
      "4.8 0.138889 3.4 0.583333           1.9     0.152542           0.2   \n",
      "5.0 0.194444 3.0 0.416667           1.6     0.101695           0.2   \n",
      "             3.4 0.583333           1.6     0.101695           0.4   \n",
      "5.2 0.250000 3.5 0.625000           1.5     0.084746           0.2   \n",
      "             3.4 0.583333           1.4     0.067797           0.2   \n",
      "4.7 0.111111 3.2 0.500000           1.6     0.101695           0.2   \n",
      "...                                 ...          ...           ...   \n",
      "6.5 0.611111 3.0 0.416667           5.8     0.813559           2.2   \n",
      "7.6 0.916667 3.0 0.416667           6.6     0.949153           2.1   \n",
      "4.9 0.166667 2.5 0.208333           4.5     0.593220           1.7   \n",
      "7.3 0.833333 2.9 0.375000           6.3     0.898305           1.8   \n",
      "6.7 0.666667 2.5 0.208333           5.8     0.813559           1.8   \n",
      "7.2 0.805556 3.6 0.666667           6.1     0.864407           2.5   \n",
      "6.5 0.611111 3.2 0.500000           5.1     0.694915           2.0   \n",
      "6.4 0.583333 2.7 0.291667           5.3     0.728814           1.9   \n",
      "6.8 0.694444 3.0 0.416667           5.5     0.762712           2.1   \n",
      "5.7 0.388889 2.5 0.208333           5.0     0.677966           2.0   \n",
      "5.8 0.416667 2.8 0.333333           5.1     0.694915           2.4   \n",
      "6.4 0.583333 3.2 0.500000           5.3     0.728814           2.3   \n",
      "6.5 0.611111 3.0 0.416667           5.5     0.762712           1.8   \n",
      "7.7 0.944444 3.8 0.750000           6.7     0.966102           2.2   \n",
      "             2.6 0.250000           6.9     0.999900           2.3   \n",
      "6.0 0.472222 2.2 0.083333           5.0     0.677966           1.5   \n",
      "6.9 0.722222 3.2 0.500000           5.7     0.796610           2.3   \n",
      "5.6 0.361111 2.8 0.333333           4.9     0.661017           2.0   \n",
      "7.7 0.944444 2.8 0.333333           6.7     0.966102           2.0   \n",
      "6.3 0.555556 2.7 0.291667           4.9     0.661017           1.8   \n",
      "6.7 0.666667 3.3 0.541667           5.7     0.796610           2.1   \n",
      "7.2 0.805556 3.2 0.500000           6.0     0.847458           1.8   \n",
      "6.2 0.527778 2.8 0.333333           4.8     0.644068           1.8   \n",
      "6.1 0.500000 3.0 0.416667           4.9     0.661017           1.8   \n",
      "6.4 0.583333 2.8 0.333333           5.6     0.779661           2.1   \n",
      "7.2 0.805556 3.0 0.416667           5.8     0.813559           1.6   \n",
      "7.4 0.861111 2.8 0.333333           6.1     0.864407           1.9   \n",
      "7.9 0.999900 3.8 0.750000           6.4     0.915254           2.0   \n",
      "6.4 0.583333 2.8 0.333333           5.6     0.779661           2.2   \n",
      "6.3 0.555556 2.8 0.333333           5.1     0.694915           1.5   \n",
      "\n",
      "                           petal_width    species  \n",
      "5.1 0.222222 3.5 0.625000     0.041667     setosa  \n",
      "4.9 0.166667 3.0 0.416667     0.041667     setosa  \n",
      "4.7 0.111111 3.2 0.500000     0.041667     setosa  \n",
      "4.6 0.083333 3.1 0.458333     0.041667     setosa  \n",
      "5.0 0.194444 3.6 0.666667     0.041667     setosa  \n",
      "5.4 0.305556 3.9 0.791667     0.125000     setosa  \n",
      "4.6 0.083333 3.4 0.583333     0.083333     setosa  \n",
      "5.0 0.194444 3.4 0.583333     0.041667     setosa  \n",
      "4.4 0.027778 2.9 0.375000     0.041667     setosa  \n",
      "4.9 0.166667 3.1 0.458333     0.010000     setosa  \n",
      "5.4 0.305556 3.7 0.708333     0.041667     setosa  \n",
      "4.8 0.138889 3.4 0.583333     0.041667     setosa  \n",
      "             3.0 0.416667     0.010000     setosa  \n",
      "4.3 0.010000 3.0 0.416667     0.010000     setosa  \n",
      "5.8 0.416667 4.0 0.833333     0.041667     setosa  \n",
      "5.7 0.388889 4.4 0.999900     0.125000     setosa  \n",
      "5.4 0.305556 3.9 0.791667     0.125000     setosa  \n",
      "5.1 0.222222 3.5 0.625000     0.083333     setosa  \n",
      "5.7 0.388889 3.8 0.750000     0.083333     setosa  \n",
      "5.1 0.222222 3.8 0.750000     0.083333     setosa  \n",
      "5.4 0.305556 3.4 0.583333     0.041667     setosa  \n",
      "5.1 0.222222 3.7 0.708333     0.125000     setosa  \n",
      "4.6 0.083333 3.6 0.666667     0.041667     setosa  \n",
      "5.1 0.222222 3.3 0.541667     0.166667     setosa  \n",
      "4.8 0.138889 3.4 0.583333     0.041667     setosa  \n",
      "5.0 0.194444 3.0 0.416667     0.041667     setosa  \n",
      "             3.4 0.583333     0.125000     setosa  \n",
      "5.2 0.250000 3.5 0.625000     0.041667     setosa  \n",
      "             3.4 0.583333     0.041667     setosa  \n",
      "4.7 0.111111 3.2 0.500000     0.041667     setosa  \n",
      "...                                ...        ...  \n",
      "6.5 0.611111 3.0 0.416667     0.875000  virginica  \n",
      "7.6 0.916667 3.0 0.416667     0.833333  virginica  \n",
      "4.9 0.166667 2.5 0.208333     0.666667  virginica  \n",
      "7.3 0.833333 2.9 0.375000     0.708333  virginica  \n",
      "6.7 0.666667 2.5 0.208333     0.708333  virginica  \n",
      "7.2 0.805556 3.6 0.666667     0.999900  virginica  \n",
      "6.5 0.611111 3.2 0.500000     0.791667  virginica  \n",
      "6.4 0.583333 2.7 0.291667     0.750000  virginica  \n",
      "6.8 0.694444 3.0 0.416667     0.833333  virginica  \n",
      "5.7 0.388889 2.5 0.208333     0.791667  virginica  \n",
      "5.8 0.416667 2.8 0.333333     0.958333  virginica  \n",
      "6.4 0.583333 3.2 0.500000     0.916667  virginica  \n",
      "6.5 0.611111 3.0 0.416667     0.708333  virginica  \n",
      "7.7 0.944444 3.8 0.750000     0.875000  virginica  \n",
      "             2.6 0.250000     0.916667  virginica  \n",
      "6.0 0.472222 2.2 0.083333     0.583333  virginica  \n",
      "6.9 0.722222 3.2 0.500000     0.916667  virginica  \n",
      "5.6 0.361111 2.8 0.333333     0.791667  virginica  \n",
      "7.7 0.944444 2.8 0.333333     0.791667  virginica  \n",
      "6.3 0.555556 2.7 0.291667     0.708333  virginica  \n",
      "6.7 0.666667 3.3 0.541667     0.833333  virginica  \n",
      "7.2 0.805556 3.2 0.500000     0.708333  virginica  \n",
      "6.2 0.527778 2.8 0.333333     0.708333  virginica  \n",
      "6.1 0.500000 3.0 0.416667     0.708333  virginica  \n",
      "6.4 0.583333 2.8 0.333333     0.833333  virginica  \n",
      "7.2 0.805556 3.0 0.416667     0.625000  virginica  \n",
      "7.4 0.861111 2.8 0.333333     0.750000  virginica  \n",
      "7.9 0.999900 3.8 0.750000     0.791667  virginica  \n",
      "6.4 0.583333 2.8 0.333333     0.875000  virginica  \n",
      "6.3 0.555556 2.8 0.333333     0.583333  virginica  \n",
      "\n",
      "[100 rows x 5 columns]\n"
     ]
    }
   ],
   "source": [
    "import pandas as pd\n",
    "df = pd.read_csv(\"IRIS.csv\", names=[\"sepal_length\",\"sepal_width\",\"petal_length\",\"petal_width\",\"species\"])\n",
    "print(df)"
   ]
  },
  {
   "cell_type": "code",
   "execution_count": 9,
   "metadata": {},
   "outputs": [
    {
     "data": {
      "text/html": [
       "<div>\n",
       "<style scoped>\n",
       "    .dataframe tbody tr th:only-of-type {\n",
       "        vertical-align: middle;\n",
       "    }\n",
       "\n",
       "    .dataframe tbody tr th {\n",
       "        vertical-align: top;\n",
       "    }\n",
       "\n",
       "    .dataframe thead th {\n",
       "        text-align: right;\n",
       "    }\n",
       "</style>\n",
       "<table border=\"1\" class=\"dataframe\">\n",
       "  <thead>\n",
       "    <tr style=\"text-align: right;\">\n",
       "      <th></th>\n",
       "      <th>sepal_length</th>\n",
       "      <th>sepal_width</th>\n",
       "      <th>petal_length</th>\n",
       "      <th>petal_width</th>\n",
       "    </tr>\n",
       "  </thead>\n",
       "  <tbody>\n",
       "    <tr>\n",
       "      <th>count</th>\n",
       "      <td>100.000000</td>\n",
       "      <td>100.000000</td>\n",
       "      <td>100.00000</td>\n",
       "      <td>100.000000</td>\n",
       "    </tr>\n",
       "    <tr>\n",
       "      <th>mean</th>\n",
       "      <td>3.851000</td>\n",
       "      <td>0.483319</td>\n",
       "      <td>1.21300</td>\n",
       "      <td>0.464048</td>\n",
       "    </tr>\n",
       "    <tr>\n",
       "      <th>std</th>\n",
       "      <td>1.785378</td>\n",
       "      <td>0.302445</td>\n",
       "      <td>0.74558</td>\n",
       "      <td>0.310207</td>\n",
       "    </tr>\n",
       "    <tr>\n",
       "      <th>min</th>\n",
       "      <td>1.000000</td>\n",
       "      <td>0.010000</td>\n",
       "      <td>0.10000</td>\n",
       "      <td>0.010000</td>\n",
       "    </tr>\n",
       "    <tr>\n",
       "      <th>25%</th>\n",
       "      <td>1.600000</td>\n",
       "      <td>0.101695</td>\n",
       "      <td>0.37500</td>\n",
       "      <td>0.114583</td>\n",
       "    </tr>\n",
       "    <tr>\n",
       "      <th>50%</th>\n",
       "      <td>4.500000</td>\n",
       "      <td>0.593220</td>\n",
       "      <td>1.40000</td>\n",
       "      <td>0.541667</td>\n",
       "    </tr>\n",
       "    <tr>\n",
       "      <th>75%</th>\n",
       "      <td>5.100000</td>\n",
       "      <td>0.694915</td>\n",
       "      <td>1.80000</td>\n",
       "      <td>0.708333</td>\n",
       "    </tr>\n",
       "    <tr>\n",
       "      <th>max</th>\n",
       "      <td>6.900000</td>\n",
       "      <td>0.999900</td>\n",
       "      <td>2.50000</td>\n",
       "      <td>0.999900</td>\n",
       "    </tr>\n",
       "  </tbody>\n",
       "</table>\n",
       "</div>"
      ],
      "text/plain": [
       "       sepal_length  sepal_width  petal_length  petal_width\n",
       "count    100.000000   100.000000     100.00000   100.000000\n",
       "mean       3.851000     0.483319       1.21300     0.464048\n",
       "std        1.785378     0.302445       0.74558     0.310207\n",
       "min        1.000000     0.010000       0.10000     0.010000\n",
       "25%        1.600000     0.101695       0.37500     0.114583\n",
       "50%        4.500000     0.593220       1.40000     0.541667\n",
       "75%        5.100000     0.694915       1.80000     0.708333\n",
       "max        6.900000     0.999900       2.50000     0.999900"
      ]
     },
     "execution_count": 9,
     "metadata": {},
     "output_type": "execute_result"
    }
   ],
   "source": [
    "df.describe()"
   ]
  },
  {
   "cell_type": "code",
   "execution_count": 10,
   "metadata": {},
   "outputs": [
    {
     "data": {
      "text/plain": [
       "sepal_length    100\n",
       "sepal_width     100\n",
       "petal_length    100\n",
       "petal_width     100\n",
       "species         100\n",
       "dtype: int64"
      ]
     },
     "execution_count": 10,
     "metadata": {},
     "output_type": "execute_result"
    }
   ],
   "source": [
    "df.count()"
   ]
  },
  {
   "cell_type": "code",
   "execution_count": 11,
   "metadata": {},
   "outputs": [
    {
     "data": {
      "text/plain": [
       "4.5"
      ]
     },
     "execution_count": 11,
     "metadata": {},
     "output_type": "execute_result"
    }
   ],
   "source": [
    "# mediana\n",
    "df[\"sepal_length\"].median()"
   ]
  },
  {
   "cell_type": "code",
   "execution_count": 12,
   "metadata": {},
   "outputs": [
    {
     "data": {
      "text/plain": [
       "0.48331933899000007"
      ]
     },
     "execution_count": 12,
     "metadata": {},
     "output_type": "execute_result"
    }
   ],
   "source": [
    "# media aritmetica\n",
    "df[\"sepal_width\"].mean()"
   ]
  },
  {
   "cell_type": "code",
   "execution_count": 13,
   "metadata": {},
   "outputs": [
    {
     "data": {
      "text/plain": [
       "0.1"
      ]
     },
     "execution_count": 13,
     "metadata": {},
     "output_type": "execute_result"
    }
   ],
   "source": [
    "# valore minimo\n",
    "df[\"petal_length\"].min()"
   ]
  },
  {
   "cell_type": "code",
   "execution_count": 14,
   "metadata": {},
   "outputs": [
    {
     "data": {
      "text/plain": [
       "0.9999"
      ]
     },
     "execution_count": 14,
     "metadata": {},
     "output_type": "execute_result"
    }
   ],
   "source": [
    "# valore massimo\n",
    "df[\"petal_width\"].max()"
   ]
  },
  {
   "cell_type": "code",
   "execution_count": 15,
   "metadata": {},
   "outputs": [
    {
     "data": {
      "text/plain": [
       "1.7853780404930346"
      ]
     },
     "execution_count": 15,
     "metadata": {},
     "output_type": "execute_result"
    }
   ],
   "source": [
    "# deviazione standard\n",
    "df[\"sepal_length\"].std()"
   ]
  },
  {
   "cell_type": "code",
   "execution_count": 16,
   "metadata": {},
   "outputs": [
    {
     "data": {
      "text/plain": [
       "-0.29467419669964995"
      ]
     },
     "execution_count": 16,
     "metadata": {},
     "output_type": "execute_result"
    }
   ],
   "source": [
    "# simmetria\n",
    "df[\"sepal_width\"].skew()"
   ]
  },
  {
   "cell_type": "code",
   "execution_count": 17,
   "metadata": {},
   "outputs": [
    {
     "data": {
      "text/plain": [
       "-1.3307809663265922"
      ]
     },
     "execution_count": 17,
     "metadata": {},
     "output_type": "execute_result"
    }
   ],
   "source": [
    "# curtosi\n",
    "df[\"petal_length\"].kurt()"
   ]
  },
  {
   "cell_type": "code",
   "execution_count": 18,
   "metadata": {},
   "outputs": [
    {
     "data": {
      "text/plain": [
       "0    0.041667\n",
       "dtype: float64"
      ]
     },
     "execution_count": 18,
     "metadata": {},
     "output_type": "execute_result"
    }
   ],
   "source": [
    "# moda\n",
    "df[\"petal_width\"].mode()"
   ]
  },
  {
   "cell_type": "code",
   "execution_count": null,
   "metadata": {},
   "outputs": [],
   "source": []
  }
 ],
 "metadata": {
  "kernelspec": {
   "display_name": "Python 3",
   "language": "python",
   "name": "python3"
  },
  "language_info": {
   "codemirror_mode": {
    "name": "ipython",
    "version": 3
   },
   "file_extension": ".py",
   "mimetype": "text/x-python",
   "name": "python",
   "nbconvert_exporter": "python",
   "pygments_lexer": "ipython3",
   "version": "3.6.4"
  }
 },
 "nbformat": 4,
 "nbformat_minor": 2
}
